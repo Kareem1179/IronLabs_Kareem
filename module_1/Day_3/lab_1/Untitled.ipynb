{
 "cells": [
  {
   "cell_type": "code",
   "execution_count": 5,
   "id": "c666f59a",
   "metadata": {},
   "outputs": [],
   "source": [
    "def func(s,x,y):\n",
    "    if s>x:\n",
    "        return s*y[0]\n",
    "    elif s<=x:\n",
    "        return s*y[1]\n"
   ]
  },
  {
   "cell_type": "code",
   "execution_count": 7,
   "id": "aa817e1e",
   "metadata": {},
   "outputs": [
    {
     "data": {
      "text/plain": [
       "2.0"
      ]
     },
     "execution_count": 7,
     "metadata": {},
     "output_type": "execute_result"
    }
   ],
   "source": [
    "func(10,20,[0.10,0.20])"
   ]
  },
  {
   "cell_type": "code",
   "execution_count": null,
   "id": "a765ffd2",
   "metadata": {},
   "outputs": [],
   "source": []
  }
 ],
 "metadata": {
  "kernelspec": {
   "display_name": "Python 3 (ipykernel)",
   "language": "python",
   "name": "python3"
  },
  "language_info": {
   "codemirror_mode": {
    "name": "ipython",
    "version": 3
   },
   "file_extension": ".py",
   "mimetype": "text/x-python",
   "name": "python",
   "nbconvert_exporter": "python",
   "pygments_lexer": "ipython3",
   "version": "3.9.12"
  }
 },
 "nbformat": 4,
 "nbformat_minor": 5
}
