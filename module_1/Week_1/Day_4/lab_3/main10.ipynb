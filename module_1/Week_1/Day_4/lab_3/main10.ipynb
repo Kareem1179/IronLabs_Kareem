{
 "cells": [
  {
   "cell_type": "code",
   "execution_count": 78,
   "id": "eb577796",
   "metadata": {},
   "outputs": [
    {
     "name": "stdout",
     "output_type": "stream",
     "text": [
      "[6, 4, 5]\n"
     ]
    }
   ],
   "source": [
    "def remove_items_from_list(list1,list2):\n",
    "    list3=[]\n",
    "    for item in list1:\n",
    "       \n",
    "        if item not in list2:\n",
    "          \n",
    "            list3.append(item)\n",
    "    return list3\n",
    "print(remove_items_from_list([2,2,6,1,4,5],[2,1]))"
   ]
  },
  {
   "cell_type": "code",
   "execution_count": 75,
   "id": "ca42d0b4",
   "metadata": {},
   "outputs": [
    {
     "name": "stdout",
     "output_type": "stream",
     "text": [
      "[5, 6, 4]\n"
     ]
    }
   ],
   "source": [
    "print(remove_items_from_list([2,2,1,5,6,4],[2,1]))"
   ]
  },
  {
   "cell_type": "code",
   "execution_count": 84,
   "id": "a1f994ad",
   "metadata": {},
   "outputs": [
    {
     "data": {
      "text/plain": [
       "[(1, 3), (3, 2)]"
      ]
     },
     "execution_count": 84,
     "metadata": {},
     "output_type": "execute_result"
    }
   ],
   "source": [
    "def count_spec_digits(integers_list, digits_list):\n",
    "    x={}\n",
    "    for item in digits_list:\n",
    "        x[item]=integers_list.count(item)\n",
    "    return list(x.items())\n",
    "count_spec_digits( [1, 1, 2 ,3 ,1 ,2 ,3 ,4], [1, 3])"
   ]
  },
  {
   "cell_type": "code",
   "execution_count": 90,
   "id": "8370bd16",
   "metadata": {},
   "outputs": [
    {
     "data": {
      "text/plain": [
       "[('a', 5), ('b', 2), ('r', 2), ('c', 1), ('d', 1)]"
      ]
     },
     "execution_count": 90,
     "metadata": {},
     "output_type": "execute_result"
    }
   ],
   "source": [
    "from collections import Counter\n",
    "def ordered_count(word):\n",
    "    return list(Counter(word).items())\n",
    "ordered_count(\"abracadabra\")"
   ]
  },
  {
   "cell_type": "code",
   "execution_count": null,
   "id": "4c20fdf1",
   "metadata": {},
   "outputs": [],
   "source": []
  }
 ],
 "metadata": {
  "kernelspec": {
   "display_name": "Python 3 (ipykernel)",
   "language": "python",
   "name": "python3"
  },
  "language_info": {
   "codemirror_mode": {
    "name": "ipython",
    "version": 3
   },
   "file_extension": ".py",
   "mimetype": "text/x-python",
   "name": "python",
   "nbconvert_exporter": "python",
   "pygments_lexer": "ipython3",
   "version": "3.9.12"
  }
 },
 "nbformat": 4,
 "nbformat_minor": 5
}
