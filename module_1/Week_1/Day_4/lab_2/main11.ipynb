{
 "cells": [
  {
   "cell_type": "code",
   "execution_count": 13,
   "id": "1e9981ba",
   "metadata": {},
   "outputs": [],
   "source": [
    "def digitize(n):\n",
    "    empty=[]\n",
    "    if type(n) != str:\n",
    "        n=str(n)\n",
    "    for i in n:\n",
    "        empty.append(int(i))\n",
    "    empty.reverse()\n",
    "    return empty"
   ]
  },
  {
   "cell_type": "code",
   "execution_count": 14,
   "id": "3bd0c5aa",
   "metadata": {},
   "outputs": [
    {
     "name": "stdout",
     "output_type": "stream",
     "text": [
      "[3, 2, 1]\n"
     ]
    }
   ],
   "source": [
    "print(digitize(123))"
   ]
  },
  {
   "cell_type": "code",
   "execution_count": 15,
   "id": "8aa71df5",
   "metadata": {},
   "outputs": [],
   "source": [
    "def count_sheep(n):\n",
    "    counted=[]\n",
    "    for i in n:\n",
    "        if i== True:\n",
    "            counted.append(i)\n",
    "    return len(counted)\n"
   ]
  },
  {
   "cell_type": "code",
   "execution_count": 20,
   "id": "71d6dde4",
   "metadata": {},
   "outputs": [
    {
     "data": {
      "text/plain": [
       "17"
      ]
     },
     "execution_count": 20,
     "metadata": {},
     "output_type": "execute_result"
    }
   ],
   "source": [
    "count_sheep([True,  True,  True,  False,\n",
    "  True,  True,  True,  True ,\n",
    "  True,  False, True,  False,\n",
    "  True,  False, False, True ,\n",
    "  True,  True,  True,  True ,\n",
    "  False, False, True,  True])"
   ]
  },
  {
   "cell_type": "code",
   "execution_count": 23,
   "id": "e841653f",
   "metadata": {},
   "outputs": [],
   "source": [
    "def skip_items(n):\n",
    "    empty=[]\n",
    "    length=len(n)\n",
    "    for i in range(0,length,2):\n",
    "        empty.append(n[i])\n",
    "    return empty"
   ]
  },
  {
   "cell_type": "code",
   "execution_count": 25,
   "id": "9dbc84c6",
   "metadata": {},
   "outputs": [
    {
     "data": {
      "text/plain": [
       "[1, 5, 9, 12]"
      ]
     },
     "execution_count": 25,
     "metadata": {},
     "output_type": "execute_result"
    }
   ],
   "source": [
    "skip_items([1,3,5,7,9,11,12,13])"
   ]
  },
  {
   "cell_type": "code",
   "execution_count": 35,
   "id": "87ed4d70",
   "metadata": {},
   "outputs": [],
   "source": [
    "def squared_int(n):\n",
    "    n=str(n)\n",
    "    empty=[]\n",
    "    for i in n:\n",
    "        empty.append(str(int(i)**2))\n",
    "    x= \"\".join(empty)\n",
    "    return int(x)"
   ]
  },
  {
   "cell_type": "code",
   "execution_count": 37,
   "id": "540553a2",
   "metadata": {},
   "outputs": [
    {
     "data": {
      "text/plain": [
       "811181"
      ]
     },
     "execution_count": 37,
     "metadata": {},
     "output_type": "execute_result"
    }
   ],
   "source": [
    "squared_int(9119)"
   ]
  },
  {
   "cell_type": "code",
   "execution_count": 32,
   "id": "e3c71026",
   "metadata": {},
   "outputs": [
    {
     "data": {
      "text/plain": [
       "25"
      ]
     },
     "execution_count": 32,
     "metadata": {},
     "output_type": "execute_result"
    }
   ],
   "source": [
    "5**2"
   ]
  },
  {
   "cell_type": "code",
   "execution_count": 43,
   "id": "9ae142f5",
   "metadata": {},
   "outputs": [],
   "source": [
    "def count_spec_digits(integers_list, digits_list):\n",
    "    \n",
    "    dict={}\n",
    "    for d in digits_list:\n",
    "        dict[d]=integers_list.count(d)\n",
    "    return [(key,value) for key,value in dict.items()]"
   ]
  },
  {
   "cell_type": "code",
   "execution_count": 47,
   "id": "ecd9285b",
   "metadata": {},
   "outputs": [
    {
     "data": {
      "text/plain": [
       "[(-18, 2), (111, 1)]"
      ]
     },
     "execution_count": 47,
     "metadata": {},
     "output_type": "execute_result"
    }
   ],
   "source": [
    "count_spec_digits([-18, -31, 81, -19, 111, -888,-18], [-18,111])"
   ]
  },
  {
   "cell_type": "code",
   "execution_count": null,
   "id": "02f850bc",
   "metadata": {},
   "outputs": [],
   "source": []
  }
 ],
 "metadata": {
  "kernelspec": {
   "display_name": "Python 3 (ipykernel)",
   "language": "python",
   "name": "python3"
  },
  "language_info": {
   "codemirror_mode": {
    "name": "ipython",
    "version": 3
   },
   "file_extension": ".py",
   "mimetype": "text/x-python",
   "name": "python",
   "nbconvert_exporter": "python",
   "pygments_lexer": "ipython3",
   "version": "3.9.12"
  }
 },
 "nbformat": 4,
 "nbformat_minor": 5
}
